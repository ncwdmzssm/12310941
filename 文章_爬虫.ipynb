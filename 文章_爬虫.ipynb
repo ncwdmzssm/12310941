{
 "cells": [
  {
   "cell_type": "code",
   "execution_count": 1,
   "metadata": {},
   "outputs": [],
   "source": [
    "import requests\n",
    "from bs4 import BeautifulSoup\n",
    "import pandas as pd\n",
    "from urllib.parse import urljoin # 导入 urljoin 用于拼接URL\n",
    "import time # 导入 time 模块用于延时\n",
    "import random # 导入 random 模块用于随机延时\n",
    "import requests\n"
   ]
  },
  {
   "cell_type": "markdown",
   "metadata": {},
   "source": [
    "## 访问头"
   ]
  },
  {
   "cell_type": "code",
   "execution_count": null,
   "metadata": {},
   "outputs": [],
   "source": [
    "headers = {\n",
    "    \"Host\": \"www.tandfonline.com\",\n",
    "    \"Connection\": \"keep-alive\",\n",
    "    \"sec-ch-ua\": \"\\\"Chromium\\\";v=\\\"9\\\", \\\"Not?A_Brand\\\";v=\\\"8\\\"\",\n",
    "    \"sec-ch-ua-mobile\": \"?0\",\n",
    "    \"User-Agent\": \"Mozilla/5.0 (Windows NT 10.0; Win64; x64) AppleWebKit/537.36 (KHTML, like Gecko) Chrome/124.0.0.0 Safari/537.36 SLBrowser/9.0.6.2081 SLBChan/11 SLBVPV/64-bit\",\n",
    "    \"sec-ch-ua-arch\": \"\\\"x86\\\"\",\n",
    "    \"sec-ch-ua-full-version\": \"\\\"9.0.6.2081\\\"\",\n",
    "    \"Accept\": \"text/html, */*; q=0.01\",\n",
    "    \"sec-ch-ua-platform-version\": \"\\\"15.0.0\\\"\",\n",
    "    \"X-Requested-With\": \"XMLHttpRequest\", \n",
    "    \"sec-ch-ua-full-version-list\": \"\\\"Chromium\\\";v=\\\"9.0.6.2081\\\", \\\"Not?A_Brand\\\";v=\\\"8.0.0.0\\\"\",\n",
    "    \"sec-ch-ua-bitness\": \"\\\"64\\\"\",\n",
    "    \"sec-ch-ua-model\": \"\\\"\\\"\",\n",
    "    \"sec-ch-ua-platform\": \"\\\"Windows\\\"\",\n",
    "    \"Sec-Fetch-Site\": \"same-origin\", \n",
    "    \"Sec-Fetch-Mode\": \"cors\",\n",
    "    \"Sec-Fetch-Dest\": \"empty\",\n",
    "    \"Referer\": \"https://www.tandfonline.com/action/showOpenAccess?journalCode=mmis20\", \n",
    "    \"Accept-Encoding\": \"gzip, deflate, br, zstd\",\n",
    "    \"Accept-Language\": \"zh-CN,zh;q=0.9\",\n",
    "    \"Cookie\": \"MAID=JBTgdIXv0858Wj9W4iuaOA==; optimizelyEndUserId=oeu1759058367732r0.21816956687565914; _curator_id=DE.V1.107482355838.1759058367964; _gcl_au=1.1.485256297.1759058368; _fbp=fb.1.1759058368545.678630056986406959; sa-user-id=s%253A0-487c9151-a2d0-5c7d-4303-8abdf1727662.oZIaCLk28k5IzUI1RwWmta%252BJquxqTv34AMH7M81ykXQ; sa-user-id-v2=s%253ASHyRUaLQXH1DA4q98XJ2Ynft8oY.GLA2m9YvB6gbJFeb4y6Hkzy%252BA7%252FLkDqClfUjhImW8Oo; sa-user-id-v3=s%253AAQAKINRGDmxTVjj0YY8NIqwEDYDygK7M7pNa0Jo6By1hNsdBELIBGAQgwrPkxgYwAToEgLCJxUIEwtCHnA.Aq%252F4hS7TJh5P9iErfWUqUUzTKRgLjqtIAO8B3u%252FOgFQ; _hjSessionUser_864760=eyJpZCI6IjYxMTk1MDNjLTBhNjAtNWE3Mi1hOWY3LTEwN2JiOTVjYzcwNSIsImNyZWF0ZWQiOjE3NTkwNTg0MDcxNDgsImV4aXN0aW5nIjpmYWxzZX0=; optimizelySession=0; _gid=GA1.2.285515040.1759742392; MACHINE_LAST_SEEN=2025-10-06T02%3A19%3A58.389-07%3A00; JSESSIONID=D039C35DA174A1912FFBD96A01B13E83; timezone=480; cf_clearance=_bBgLl6_d2vj_Cn3HJJ9oXiSje6Wj.syPWOo7bcoBlA-1759743226-1.2.1.1-ZNbXS576yFmFCnZqNyDbIChVywwnTatS97PzasF8ztTPwDcQASLraqHpceconsX3dFaN7_B8.1VTDyNFR.CakpS.bWOpEyDnuvVPHUBeE49OTgS2haU9i5iDMvqzHLMIvwvhl63RFYt5nIpyAK1Nth_wzw49k3ptIyJKxnziATgsI7aM4x.wC7ObkrflLJXQuEf9uDpZllen5mBXZu6tPFFLJ4k7QimxmAMSevrPt6CPrX9NnJ4CJvbK331cnZdu; _ga_4819PJ6HEN=GS2.1.s1759742388$o3$g1$t1759743421$j59$l0$h0; _ga=GA1.2.1485882698.1759058368; _ga_0HYE8YG0M6=GS2.1.s1759742388$o2$g1$t1759743493$j48$l0$h0\"\n",
    "}"
   ]
  },
  {
   "cell_type": "markdown",
   "metadata": {},
   "source": [
    "## 访问首页的文章"
   ]
  },
  {
   "cell_type": "code",
   "execution_count": null,
   "metadata": {},
   "outputs": [],
   "source": [
    "\n",
    "url =\"https://www.tandfonline.com/journals/mmis20\"\n",
    "response = requests.get(url, headers=headers)\n",
    "\n",
    "if response.status_code == 200:\n",
    "    print(response.text)\n",
    "else:\n",
    "    print(f\"请求失败，状态码: {response.status_code}\")"
   ]
  },
  {
   "cell_type": "code",
   "execution_count": 7,
   "metadata": {},
   "outputs": [
    {
     "data": {
      "text/plain": [
       "[{'title': 'Understanding the Drivers and Outcomes of Ideologically Charged Social Media Firestorms: The Sociotechnical and Social Learning Perspectives',\n",
       "  'link': 'https://www.tandfonline.com/doi/full/10.1080/07421222.2025.2520170?src=exp-la'},\n",
       " {'title': 'Can Correction Messages Reduce the Spread of Fake News on Social Media? The Impact of Information Updates on the Effectiveness of Corrections',\n",
       "  'link': 'https://www.tandfonline.com/doi/full/10.1080/07421222.2025.2520174?src=exp-la'},\n",
       " {'title': 'Mixed Signals: The Effects of Online Rating Discrepancy on User Trust',\n",
       "  'link': 'https://www.tandfonline.com/doi/full/10.1080/07421222.2025.2520178?src=exp-la'},\n",
       " {'title': 'Job Crafting in the Context of Enterprise System Implementations',\n",
       "  'link': 'https://www.tandfonline.com/doi/full/10.1080/07421222.2025.2487305?src=exp-la'},\n",
       " {'title': 'The Algorithm Discount: Explaining Consumers’ Valuation of Human- versus Algorithm-Created Digital Products',\n",
       "  'link': 'https://www.tandfonline.com/doi/full/10.1080/07421222.2025.2487308?src=exp-la'},\n",
       " {'title': 'Complementor Value Co-Creation in Generative AI Platform Ecosystems',\n",
       "  'link': 'https://www.tandfonline.com/doi/full/10.1080/07421222.2025.2487310?src=exp-la'}]"
      ]
     },
     "execution_count": 7,
     "metadata": {},
     "output_type": "execute_result"
    }
   ],
   "source": [
    "soup=BeautifulSoup(response.text, 'html.parser')\n",
    "article_containers = soup.find_all('div', class_='articleEntryContainer')\n",
    "articles=[]\n",
    "for container in article_containers:\n",
    "    title_div = container.find('div', class_='art_title')\n",
    "    article={}\n",
    "    if title_div:\n",
    "        a_tag = title_div.find('a')\n",
    "        if a_tag:\n",
    "            \n",
    "            title = a_tag.find('span').text.strip()\n",
    "            link = a_tag['href']\n",
    "            article['title'] = title\n",
    "            article['link'] = urljoin(url, link)\n",
    "            articles.append(article)\n",
    "articles\n"
   ]
  },
  {
   "cell_type": "markdown",
   "metadata": {},
   "source": [
    "## 访问开源的所有文章"
   ]
  },
  {
   "cell_type": "markdown",
   "metadata": {},
   "source": [
    "### 请求头"
   ]
  },
  {
   "cell_type": "code",
   "execution_count": 31,
   "metadata": {},
   "outputs": [],
   "source": [
    "headers3 = {\n",
    "    \"User-Agent\": \"Mozilla/5.0 (Windows NT 10.0; Win64; x64) AppleWebKit/537.36 (KHTML, like Gecko) Chrome/124.0.0.0 Safari/537.36 SLBrowser/9.0.6.2081 SLBChan/11 SLBVPV/64-bit\",\n",
    "    \"sec-ch-ua-arch\": \"\\\"x86\\\"\",\n",
    "    \"sec-ch-ua-full-version\": \"\\\"9.0.6.2081\\\"\",\n",
    "    \"Accept\": \"text/html, */*; q=0.01\",\n",
    "    \"sec-ch-ua-platform-version\": \"\\\"15.0.0\\\"\",\n",
    "    \"X-Requested-With\": \"XMLHttpRequest\",  # 标识AJAX请求，接口必需\n",
    "    \"sec-ch-ua-full-version-list\": \"\\\"Chromium\\\";v=\\\"9.0.6.2081\\\", \\\"Not?A_Brand\\\";v=\\\"8.0.0.0\\\"\",\n",
    "    \"sec-ch-ua-bitness\": \"\\\"64\\\"\",\n",
    "    \"sec-ch-ua-model\": \"\\\"\\\"\",\n",
    "    \"sec-ch-ua-platform\": \"\\\"Windows\\\"\",\n",
    "    \"Sec-Fetch-Site\": \"same-origin\",\n",
    "    \"Sec-Fetch-Mode\": \"cors\",\n",
    "    \"Sec-Fetch-Dest\": \"empty\",\n",
    "    \"Referer\": \"https://www.tandfonline.com/action/showOpenAccess?journalCode=mmis20\",\n",
    "    \"Accept-Encoding\": \"gzip, deflate, br, zstd\",\n",
    "    \"Accept-Language\": \"zh-CN,zh;q=0.9\",\n",
    "    \"Cookie\": \"MAID=JBTgdIXv0858Wj9W4iuaOA==; optimizelyEndUserId=oeu1759058367732r0.21816956687565914; _curator_id=DE.V1.107482355838.1759058367964; _gcl_au=1.1.485256297.1759058368; _fbp=fb.1.1759058368545.678630056986406959; sa-user-id=s%253A0-487c9151-a2d0-5c7d-4303-8abdf1727662.oZIaCLk28k5IzUI1RwWmta%252BJquxqTv34AMH7M81ykXQ; sa-user-id-v2=s%253ASHyRUaLQXH1DA4q98XJ2Ynft8oY.GLA2m9YvB6gbJFeb4y6Hkzy%252BA7%252FLkDqClfUjhImW8Oo; sa-user-id-v3=s%253AAQAKINRGDmxTVjj0YY8NIqwEDYDygK7M7pNa0Jo6By1hNsdBELIBGAQgwrPkxgYwAToEgLCJxUIEwtCHnA.Aq%252F4hS7TJh5P9iErfWUqUUzTKRgLjqtIAO8B3u%252FOgFQ; _hjSessionUser_864760=eyJpZCI6IjYxMTk1MDNjLTBhNjAtNWE3Mi1hOWY3LTEwN2JiOTVjYzcwNSIsImNyZWF0ZWQiOjE3NTkwNTg0MDcxNDgsImV4aXN0aW5nIjpmYWxzZX0=; optimizelySession=0; _gid=GA1.2.285515040.1759742392; MACHINE_LAST_SEEN=2025-10-06T02%3A19%3A58.389-07%3A00; JSESSIONID=D039C35DA174A1912FFBD96A01B13E83; timezone=480; _gat_UA-3062505-46=1; cf_clearance=5VAvi6kTS1ln82fMx7tg8UKB4O9Lc6aSzQVj.lLhSDY-1759745558-1.2.1.1-9M.vqNMCTO5nMX_wMIpX5ayjXPWiHBtS_NiXLOZ9lgI9oI.XYZwnUqA5IoqiuD8JeL8OfcwNSZU.3m9zLSpieSVZluUBwjaw4pDmutcGQPEo5c40P2bqLA.QxpesXpnpa.7tg00xnzlyn_iJ4.SAEg3_LvaZegmq7YTczvUdYy1Qi42FYhJeYSS2Qe8W9zNjP.q0LEN28madPUwdM7BF8kxUXCqspzjOD7odS7ShqeHeKnlkJ1skVvab67ti5oki; _ga=GA1.1.1485882698.1759058368; _ga_0HYE8YG0M6=GS2.1.s1759742388$o2$g1$t1759745569$j20$l0$h0; _ga_4819PJ6HEN=GS2.1.s1759745552$o4$g1$t1759745573$j39$l0$h0\"\n",
    "}"
   ]
  },
  {
   "cell_type": "markdown",
   "metadata": {},
   "source": [
    "### 前五页访问尝试"
   ]
  },
  {
   "cell_type": "code",
   "execution_count": 28,
   "metadata": {},
   "outputs": [
    {
     "name": "stdout",
     "output_type": "stream",
     "text": [
      "请求失败，状态码: 403\n",
      "请求失败，状态码: 403\n",
      "请求失败，状态码: 403\n",
      "请求失败，状态码: 403\n",
      "[]\n"
     ]
    }
   ],
   "source": [
    "open_urls= {f\"https://www.tandfonline.com/action/showOpenAccess?journalCode=mmis20&page={i}\" for i in range(1,5)}\n",
    "art=[]\n",
    "for open_url in open_urls:\n",
    "    response = requests.get(open_url, headers=headers3)\n",
    "    if response.status_code != 200:\n",
    "        print(f\"请求失败，状态码: {response.status_code}\")\n",
    "        continue\n",
    "    soup=BeautifulSoup(response.text, 'html.parser')\n",
    "    article_containers = soup.find_all('div', class_='articleEntryContainer')\n",
    "    for article in article_containers:\n",
    "        art_title=article.find('div', class_='art_title').find('span').text\n",
    "        art_link=article.find('div', class_='art_title').find('a')['href'].text\n",
    "        art_authors=article.find('div',class_='articleEntryAuthor').find_all('a').text\n",
    "        art_date=article.find('div',class_='article-date').text\n",
    "        art.append(1,{'title':art_title,'link':urljoin(url,art_link),'authors':art_authors,'date':art_date})\n",
    "    time.sleep(random.uniform(1,3))\n",
    "print(art)"
   ]
  },
  {
   "cell_type": "markdown",
   "metadata": {},
   "source": [
    "### 第一页访问尝试"
   ]
  },
  {
   "cell_type": "code",
   "execution_count": 33,
   "metadata": {},
   "outputs": [
    {
     "data": {
      "text/plain": [
       "'<!DOCTYPE html><html lang=\"en-US\"><head><title>Just a moment...</title><meta http-equiv=\"Content-Type\" content=\"text/html; charset=UTF-8\"><meta http-equiv=\"X-UA-Compatible\" content=\"IE=Edge\"><meta name=\"robots\" content=\"noindex,nofollow\"><meta name=\"viewport\" content=\"width=device-width,initial-scale=1\"><style>*{box-sizing:border-box;margin:0;padding:0}html{line-height:1.15;-webkit-text-size-adjust:100%;color:#313131;font-family:system-ui,-apple-system,BlinkMacSystemFont,\"Segoe UI\",Roboto,\"Helvetica Neue\",Arial,\"Noto Sans\",sans-serif,\"Apple Color Emoji\",\"Segoe UI Emoji\",\"Segoe UI Symbol\",\"Noto Color Emoji\"}body{display:flex;flex-direction:column;height:100vh;min-height:100vh}.main-content{margin:8rem auto;padding-left:1.5rem;max-width:60rem}@media (width <= 720px){.main-content{margin-top:4rem}}.h2{line-height:2.25rem;font-size:1.5rem;font-weight:500}@media (width <= 720px){.h2{line-height:1.5rem;font-size:1.25rem}}#challenge-error-text{background-image:url(\"data:image/svg+xml;base64,PHN2ZyB4bWxucz0iaHR0cDovL3d3dy53My5vcmcvMjAwMC9zdmciIHdpZHRoPSIzMiIgaGVpZ2h0PSIzMiIgZmlsbD0ibm9uZSI+PHBhdGggZmlsbD0iI0IyMEYwMyIgZD0iTTE2IDNhMTMgMTMgMCAxIDAgMTMgMTNBMTMuMDE1IDEzLjAxNSAwIDAgMCAxNiAzbTAgMjRhMTEgMTEgMCAxIDEgMTEtMTEgMTEuMDEgMTEuMDEgMCAwIDEtMTEgMTEiLz48cGF0aCBmaWxsPSIjQjIwRjAzIiBkPSJNMTcuMDM4IDE4LjYxNUgxNC44N0wxNC41NjMgOS41aDIuNzgzem0tMS4wODQgMS40MjdxLjY2IDAgMS4wNTcuMzg4LjQwNy4zODkuNDA3Ljk5NCAwIC41OTYtLjQwNy45ODQtLjM5Ny4zOS0xLjA1Ny4zODktLjY1IDAtMS4wNTYtLjM4OS0uMzk4LS4zODktLjM5OC0uOTg0IDAtLjU5Ny4zOTgtLjk4NS40MDYtLjM5NyAxLjA1Ni0uMzk3Ii8+PC9zdmc+\");background-repeat:no-repeat;background-size:contain;padding-left:34px}@media (prefers-color-scheme: dark){body{background-color:#222;color:#d9d9d9}}</style><meta http-equiv=\"refresh\" content=\"360\"></head><body><div class=\"main-wrapper\" role=\"main\"><div class=\"main-content\"><noscript><div class=\"h2\"><span id=\"challenge-error-text\">Enable JavaScript and cookies to continue</span></div></noscript></div></div><script>(function(){window._cf_chl_opt = {cvId: \\'3\\',cZone: \\'www.tandfonline.com\\',cType: \\'managed\\',cRay: \\'98a499aaf8684e53\\',cH: \\'4UhogVZxDE2H4ALb9h7HmlAxm6uzK0OlrnOmEYXXbfA-1759747851-1.2.1.1-MXJnFtEbkXp2t_lc7y__jvyG_vi_Mn3KSUbrcxVas.TSkOzrSjVVa9pH7HMdRMcK\\',cUPMDTk:\"\\\\/action\\\\/showOpenAccess?journalCode=mmis20&__cf_chl_tk=xFs1EKcWba5KE6gzbZNBCSoRjrP3dyAe5BPJIHBrOoA-1759747851-1.0.1.1-llFjoVPiFCszfa.yq7jP2ZpIDWPKc60WUiPLp7M1MRI\",cFPWv: \\'b\\',cITimeS: \\'1759747851\\',cTplC:0,cTplV:5,cTplB: \\'cf\\',fa:\"\\\\/action\\\\/showOpenAccess?journalCode=mmis20&__cf_chl_f_tk=xFs1EKcWba5KE6gzbZNBCSoRjrP3dyAe5BPJIHBrOoA-1759747851-1.0.1.1-llFjoVPiFCszfa.yq7jP2ZpIDWPKc60WUiPLp7M1MRI\",md: \\'t7l1OZAers8r3u8Qjg5jro.QAV7RSR0stKVaLeOo5yA-1759747851-1.2.1.1-m89MV1YJFYUkCGs6wEi8bb7n2Yn2h84fkeAzsyTd7w0feODudH4__L5PsxwF6fFw5pu05yF1B5mDcVs6zTGb36POXBrO5oTQ7pVUSWhuC9Ke4NM4pDT5u4VvWZHf3EJ2pwep04M.SDJ3w5Ujp9YwUXBou2Oq7l_VA.qPcmMYlqloySKZ3SRznHsp8Qo6ccITWSsLG7uz2sDlRcZgyTlpdZfQPNWxgyFG9hPTybWJikb5Jd639tXb2sQIRq0DK7_EhKkR4UIIkSR1_P9ar.FPb64dr46_4ECsviDZG5gii.qDkARL1O37CGcNnsl8Cs8g7C1e9fGUrkulX155dr8eCnnM5T4MPEhtt0YXfT6wtN0RURLsSO2vLavy5i.aKzP1sRI9eOZEKX_YKIWUo0XucAGuG3vthq5SPmaw9hew2hsQrF1ZQi8wW38DDEBRdZtCTojGLSN3qgHEXOfVe4x7zw21oZoYJx6k5KWDIacPwnUVl6JbPQhfIzZfP36k9PN4wCICnA9ghZIIPVBsOy794OEJzaoH3KjR8357Ew.EeADxVHMtCFaSG3Xoaf8fR3KmcobYGjMJsnI2p8BHdZsmFoCktCuJu0nK1genSh58OM8WUfTo3CRq9QLs0mLXrf6se5newiEsx9rvCIMIJesEJVB3w1C3oDDzPr68UVnRwpekr4bXx52PWhfczKBTq_k9wKW7bshkXlOiRnP7RzXmtlPz72tbY6GCo7vjf.NvW.PdF5XJcjmEQl_qI8uIl8js8W7z6LLp3d5sFymD28SaA7YmsA2vIOGxNULnnAGaKGBDCluB3_GNIq3_kpOg.Ee1rTrgXEakcxHiGEeww6ksdYZA0zOUa4G2IVYjVmUbfIbBwTXqPv5NXjSBSAVHUfcOI8yYvv0X.BIqFU97XX8WYH_2kPbcvko9NW0JGQNgSVv1973oefYJdV.BqNAYOhIgKWjcQ2E0ial2n8mr.ZlsJb8mlO4zVowxwA.wTmpPosXMQDWHDIHx3PJX7iqDtGUnNVsk24AcI8o.DRjW9RW5SL4U9X_1zum.Xp9.vhYQcSv0fX5EIFM.2jG21sXgMNJgtpJX6U_LGERZN9v4AoIuFNM2RZfndIq5q857rq5bWqJdKPwtz5dDy98sg6xX2LMOgnX0KZfKMtX3B2ARzxGoeWjAyxear8SyjCyDbl.OgTBjODlDET4lS_jweVhNS12G5r.vnyRerj0vg7nz2rw8Qw\\',mdrd: \\'IapUMOsOiZP4IfDJiW8WlfWH0mz1BUvm9zTVYHOQeK8-1759747851-1.2.1.1-XnjpqDYaZjnuwwgm3v5kgsHjRuzVDyPEfqUCPzRi6UjvkTEvkkzzM_DM7zzOJnpwivWu.ggPF3pMmmbf9h6efo.cz8wZSGMTR6nbbGiP..MaUWxcfuQW1htw.t3r7Wqsef6vFGRRGu5W6fvEY.kCBAwG55owcqnbV6JeRBWVM_92LBBzj2DzudJScB.GdIJ4y_3KpUGrHYu72Po1yLc68pEwlROzeFM1M9gtnaFFNgrKFazFG.zwdMJv5eSpb_OhCqJEWAWYu0O_rJk1i.abHj4YclYHEsKR0OZkdFcV8iahT4MI4skd_QnyOruCmfS7sixP8e.765XeH9Iw_1oapJNxUIJGAGhNjEt2TQZr5XPfir3gvG687owDZuOr2draHrxuCxhKcLm02ux.L.GFw6yRHbAWmp0B2cHUZwwsAU.iJIYbnAm4s3RVU1lfMue__HF4FfXPhSaTSOHhpOcd.M9mYd8x6.0tiaGfyp4SJMau5jHAsmYD75_YaAaze7pcYKAfIps.mNZBC4V_ThDZVocnvkAz9KdH6C9k0zIGYJtJkde0vPRrrtxPWGXtCbAWYXUHAOH4r48QzwyS7KPY8vMNADhbyJxHhK4wtKDnAkTQiiU5NLZM3bndoePZcoWnW4DhH8oI7lBawDtPOEQ3DHs4OftHxR1Lr1CCoLPUhr.5mz8_3V9t1RuS5LpBSkYCm4TAoLslP91bIw26_s.s1sF47u7nn4KFFpIG4lbzI3weotNlRsc.mOR1ZUDKDrqHSfNNeSykmYqBvIHU6CC1aSAZ6TtJqJVXifTzwjjMbsfQ0JD70OK9gNoOl0R1Nvzeys.VGRgIRcDkZsfhl5DqMCi4a5tg8YVzDkQVJ7CjotvQL8vZLa1OlKqkGZ.jCDKFHx3I8uWOCXWPTP1ZrLfjJY5KYK8WE3Bglsohkst2QYrI7VuqjdeU8mCzUTKXM27T1CqN65yp.kgJEcu5bLDRCdcct_.jA9eCUelSryXHgTpO_aGf.wXE3aRcYikJCvOKJ1pjZKW9GTrF7QolLj2i7d5FuscIidkd3Hy2rSki2VtrLtiNf8jeThwUfnxw3WsUseEtDb8gzerjd6JKZmbTfvpAEy38P6Oko20tFCmtyHxbD58wsg78LUY543n66uQxYEyIj5h60y1MzqeuhZqsTXHpZ16c9yYFqIs0AAk996ecc8jvNh4pyekqHqnmSf5F8AyujnLOwM.DmBCi.47O0E4O5_3Wh0XKL7V3ik7MNNrO_9iq4jvTxURBbyCIBGLsyhaLqLWgSo1TviplaDDlY94TRo.pKxjQDOfI3NH8qGuBqrceQT5OeNYOlQ5sVae.PfHu3BtD.Wj254DK9amS_baI4Mgfz1OERYHhaak1AoEThwqlDtMo1teLX45PJEoK71zelm5pfM.acsO728FX28qdmaGFki7MYuZWM18XO7Bk4wtkf9zYWKYBPeHCWFhn0p5TtRPLAAez3hURDKuCbTzxlJo9HCClKtRvpAKN9Non3xlAsEFAZjpvxjAg29Huvp4RTsDeqZclXwopqMBrxAmdG4M53iH7vrII0SidcNomaw_NSSu..t4djmdxDy3wV7cKCC2.yze1beu5h96stOeJpt6Cp3itv0of4dnwv3_n8Wt7TGaQ8xqhOc74AO2H1Vo7eBPq.l_eythI6VqLJ9rsiTD9g1QfUiDeiosKL5zcAM8AjDfU_iolnxk2gstxGLzOd4bDGZm5N0yS84Ec956slqAkn25Tec.eDZtho2neQVlSth6GvA_NsYlyiemH9UIHWwWq9aSsIKqEJBzrpaLU6ZYk_lTM0x.4r2ZVdiWoj4V0sdwsYUMTOo.Tcj__MRg2EoXLvouTiI3.SYC5o2.sLc39.qTb0LIl1gp6SblzkNEoWpgNLnZrOt0wIU6wdMaLWNfPIzSe76WisIx_WQIVck7.tIBHpvgd3fpbqjELOJKrpzd5ICZN5NNmAxd75PRtH6BGTNh_U0aoqJqdXX1mUC0o5BsDHe0_RTbc5BooPG0jy44zasHpavd0Z52_7XKnVGYjlaHKBqFW2_01ryAyjzBxoJdqkGyinmygGiHiIWo2Vq_g._fmygYwKjE0udmmUqxHgVoQaQLqnxRpzlhpAcN.4Ynp281HP6nuMNwjMNQxgomasuFj9QGxFBswsOMb.Y_CPs_6opCi3pWO3wH1AE542tZJSfaSQ46Ys3_CjMrKfHnYVY0px7b4CMb7vB_4wMg6SpoBxfvbllAwwWSEQ3.LeGPyCVhhIsT9bbOpv_febMmjjEhgKh4Yw56zozm_U1NL.0Au8ugBiu4gDmXFjuaINE_bkBq2EipDO59dSti3euKJCPsB90CNbl8gwcuPtVF_1uF4qYbnBftZMI8mnOL5wclCAITZSQJ9gflByVMzjMvySQlZ6BT6_F2Z7eQZehEU1DKoYIBHbo8wJYfc499d6_NsWVcHMzYVCCzMnu5fKCjszw5Xf8UCXt2PrP3jRIYjzPMWetghZl8teaHV_uvU7QYvMeNKtVI5vyuCN7Hi4kb6srl83rMUKOiw.0Uy9V3FLbtDEYw6c6MvTUDN2fTIcWCJ4lY1_TbhZH.qdEH5EvYgZDCYy5dBNLGpmKtfJnV9vmgibuXsiJ9Z3DABswHDLFu7EGogDU21fwTiB3seKEmMRmrhuYBf6qIkyQWshu1G14hSPhLcPJi2qs6haSTIT8X5hUDzkA2SBRe5mjKDbYutqZyFbvmIGopS4hKKBZc4PApDVBuHhiKQp2yvEAZiFFhmpzVgCHU005vHsV84rmdhnDxaJ6VpMb30wthgYP39bqJ4L_timKfA2vFUJRf2iusMVHJanriTTMJ3r4pEVK92_moZk6wHf6KP5I0rCVQfC0WLlHfxCkqhDoCejcxoX7I8rK_wQ09tmfWV8ZnDwt4qxMh5GCTzj_qsTkTGD_67gUbel.UzVZrNoHunGKh1PLTg5OPUBWcsXQMl_N6zUjQ5fX7O8MQaqRPLoTnde97J4xy6GtHUamKiM_URWZbuhsb2L5gvH07bblmGvNlXMLpJuc_XgBEQYQl9X33APPdDgHKfqcOPes4zvQLCv01EoHgNYZdQg2aX4_jY_eifXXgywHS18Vpf4vDqIVYSG7d3hlg.8LsxDC0_C3Xe2e3WlcH8fFFaetHW9RFdtr_KMnhCUX7xxSC8n1aZIZjxPwEoQKk3DNznwKTdDJzQQWE90.HY_ojAfqRYRVbCq6VriUrNgt5GyRJ1gUIGbQEoPuiGz0ZMPCsNoBUXMwoZXH5vsJlo7RCFqItVrGS.hb5dq0E2pBrsU3VucbBqroSy0xYUwV6qlJKiSl72q4Jel8VAZA0XHTnO0_.vzAxYtj3X4nG3G7OEbpLIHSeXfMqxuZMeKldKcahBP1dwGDq5KkENZfnGi0xKAQtc4JWLSn4bwL_rg0u7_gNulSGs4R5ht2NgOemzrh_AkmCHktgYlzTdDhK4bzndx2Lla5taCG62clgClqilxarMgvNPyIasJWR_OOBFO2lghQAXFdmOs6fSpnsOT8_uG0zrVEP4zgan24yN7FcQRrC4ZqezQSK6gT_cY35H4ahFtBV1IXwGd3866QAUvc0.rUW2zw0OpQL6TNA6eBPuCaR72yvWvKC3FNlNCaIXKnTuluNbc2wN2PwBrCJpyYBC5RkzqnjVgw.ZLASTbmm2Y87rtzmD.Y4wZM.k86QrdgrK3UFWi90N.MMnMLLhQMBkm21e_WM0CVWfE5u5zf48kRCTt03vnt4cK9uJsmNo6_sUN8Cz.jkD1T54WEU37N9K8mSOK59sSUnoOEX3DFiwNoD5SCQ6s8LcXsBgB8LKbXFfQj1gw381XNB8JlciuoUhLcFruRfBZ6ZoKAK18NS9YfFs8MAVL8KIWK2oFHD6HD7TrDNactpm8tfXkAdie4CLAU5zT8LQZljtVOUr.WzzHy0tYCPUfX2gznn8za8emWjYOk5mXkAnbCdsoy9sNFz7js305FAqbz29Ep2CFXbUAYk8iQNdCURHoiudL8UMGsfPSIe9M2Mcu8ka2S7NOFWgNdunIh19w3B_.VFq2DqqSHSvsnFGfDCdVFd3ALavw45dA7bYVLZm2MSmcHQIMSYnuREcdsFUqbuldMeH5U07rPrsY2wqQpnd7NYabaIp9i1lXNTwUIEj4thnXheQrScPPLeh6WqPkYMrB7EL2vDfKF9xWYjyKLsRT3N8gCs.VZbN5onepcWSOlmNrjXgrQgCr7u_1UMo_WHRqv4_VtXpf.wSo2ZBOm7NdVmNOrdkgAXZqoHHS0s82V1hIy2KYNQyRyeFWKVmI79kNzE.B065CXcWh9FP2jUHIY7W6EiktZ0GPot9wB0uMvcVDNhMz3ayNbe_r8s\\',};var a = document.createElement(\\'script\\');a.src = \\'/cdn-cgi/challenge-platform/h/b/orchestrate/chl_page/v1?ray=98a499aaf8684e53\\';window._cf_chl_opt.cOgUHash = location.hash === \\'\\' && location.href.indexOf(\\'#\\') !== -1 ? \\'#\\' : location.hash;window._cf_chl_opt.cOgUQuery = location.search === \\'\\' && location.href.slice(0, location.href.length - window._cf_chl_opt.cOgUHash.length).indexOf(\\'?\\') !== -1 ? \\'?\\' : location.search;if (window.history && window.history.replaceState) {var ogU = location.pathname + window._cf_chl_opt.cOgUQuery + window._cf_chl_opt.cOgUHash;history.replaceState(null, null,\"\\\\/action\\\\/showOpenAccess?journalCode=mmis20&__cf_chl_rt_tk=xFs1EKcWba5KE6gzbZNBCSoRjrP3dyAe5BPJIHBrOoA-1759747851-1.0.1.1-llFjoVPiFCszfa.yq7jP2ZpIDWPKc60WUiPLp7M1MRI\"+ window._cf_chl_opt.cOgUHash);a.onload = function() {history.replaceState(null, null, ogU);}}document.getElementsByTagName(\\'head\\')[0].appendChild(a);}());</script></body></html>'"
      ]
     },
     "execution_count": 33,
     "metadata": {},
     "output_type": "execute_result"
    }
   ],
   "source": [
    "base_url=\"https://www.tandfonline.com/action/showOpenAccess?journalCode=mmis20\"\n",
    "response = requests.get(base_url, headers=headers3)\n",
    "response.text\n"
   ]
  },
  {
   "cell_type": "code",
   "execution_count": 24,
   "metadata": {},
   "outputs": [
    {
     "name": "stdout",
     "output_type": "stream",
     "text": [
      "None [] []\n"
     ]
    }
   ],
   "source": [
    "art1=[]\n",
    "if response.status_code != 200:\n",
    "    print(f\"请求失败，状态码: {response.status_code}\")\n",
    "    exit()\n",
    "soup=BeautifulSoup(response.text, 'html.parser')\n",
    "article_containers = soup.find_all('div', class_='articleEntry')\n",
    "art_containers=soup.find('div', class_='article-list-containerr')\n",
    "sa=soup.select('div.articleEntry')\n",
    "print(art_containers,article_containers,sa)"
   ]
  },
  {
   "cell_type": "code",
   "execution_count": null,
   "metadata": {},
   "outputs": [],
   "source": [
    "for article in article_containers:\n",
    "    try:\n",
    "        art_title=article.find('div', class_='art_title').find('span').text\n",
    "        art_link=article.find('div', class_='art_title').find('a')['href'].text\n",
    "        art_authors=article.find('div',class_='articleEntryAuthor').find_all('a').text\n",
    "        art_date=article.find('div',class_='article-date').text\n",
    "        art1.append({'title':art_title,'link':urljoin(url,art_link),'authors':art_authors,'date':art_date})\n",
    "    except Exception as e:\n",
    "        print(f\"解析文章时出错: {e}\")\n",
    "    except requests.RequestException as e:\n",
    "        print(f\"抓取详情页失败: {e}\")\n",
    "time.sleep(random.uniform(1,3))\n",
    "print(art1)"
   ]
  },
  {
   "cell_type": "markdown",
   "metadata": {},
   "source": [
    "### 模拟浏览器行为：等待页面加载完成后再获取内容"
   ]
  },
  {
   "cell_type": "code",
   "execution_count": 1,
   "metadata": {},
   "outputs": [
    {
     "name": "stdout",
     "output_type": "stream",
     "text": [
      "Requirement already satisfied: playwright in c:\\programdata\\anaconda3\\lib\\site-packages (1.55.0)\n",
      "Requirement already satisfied: pyee<14,>=13 in c:\\programdata\\anaconda3\\lib\\site-packages (from playwright) (13.0.0)\n",
      "Requirement already satisfied: greenlet<4.0.0,>=3.1.1 in c:\\programdata\\anaconda3\\lib\\site-packages (from playwright) (3.2.4)\n",
      "Requirement already satisfied: typing-extensions in c:\\programdata\\anaconda3\\lib\\site-packages (from pyee<14,>=13->playwright) (4.7.1)\n",
      "Note: you may need to restart the kernel to use updated packages.\n"
     ]
    }
   ],
   "source": [
    "%pip install playwright\n",
    "from playwright.sync_api import sync_playwright"
   ]
  },
  {
   "cell_type": "code",
   "execution_count": null,
   "metadata": {},
   "outputs": [],
   "source": [
    "from playwright.sync import sync_playwright\n",
    "with sync_playwright() as p:\n",
    "    browser = p.chromium.launch(headless=False)\n",
    "    page = browser.new_page()\n",
    "    page.goto(\"https://www.tandfonline.com/journals/mmis20\")\n",
    "    page.screenshot(path=\"example.png\")\n",
    "    page_content = page.content()\n",
    "    print(page_content)\n",
    "    browser.close()"
   ]
  }
 ],
 "metadata": {
  "kernelspec": {
   "display_name": "base",
   "language": "python",
   "name": "python3"
  },
  "language_info": {
   "codemirror_mode": {
    "name": "ipython",
    "version": 3
   },
   "file_extension": ".py",
   "mimetype": "text/x-python",
   "name": "python",
   "nbconvert_exporter": "python",
   "pygments_lexer": "ipython3",
   "version": "3.11.5"
  }
 },
 "nbformat": 4,
 "nbformat_minor": 2
}
